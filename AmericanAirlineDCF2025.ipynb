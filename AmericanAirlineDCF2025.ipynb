{
 "cells": [
  {
   "cell_type": "markdown",
   "metadata": {},
   "source": [
    "### DCF Model for American Airlines 2025"
   ]
  },
  {
   "cell_type": "code",
   "execution_count": 49,
   "metadata": {},
   "outputs": [],
   "source": [
    "import pandas as pd\n",
    "import datetime"
   ]
  },
  {
   "cell_type": "markdown",
   "metadata": {},
   "source": [
    "#### Setting up the DataFrame"
   ]
  },
  {
   "cell_type": "code",
   "execution_count": 50,
   "metadata": {},
   "outputs": [
    {
     "name": "stdout",
     "output_type": "stream",
     "text": [
      "                        2022 2023 2024 2025 2026 2027 2028 2029\n",
      "Revenue                  NaN  NaN  NaN  NaN  NaN  NaN  NaN  NaN\n",
      "Operating Expenses       NaN  NaN  NaN  NaN  NaN  NaN  NaN  NaN\n",
      "EBIT (Operating Income)  NaN  NaN  NaN  NaN  NaN  NaN  NaN  NaN\n",
      "Net Income               NaN  NaN  NaN  NaN  NaN  NaN  NaN  NaN\n",
      "                                2022 2023 2024 2025 2026 2027 2028 2029\n",
      "Revenue Growth                   NaN  NaN  NaN  NaN  NaN  NaN  NaN  NaN\n",
      "Operating Expenses % of Revenue  NaN  NaN  NaN  NaN  NaN  NaN  NaN  NaN\n",
      "Net Income % of EBIT             NaN  NaN  NaN  NaN  NaN  NaN  NaN  NaN\n"
     ]
    }
   ],
   "source": [
    "# curr_year = datetime.datetime.today().year\n",
    "curr_year = 2024\n",
    "# print(curr_year)\n",
    "\n",
    "years = [0] * 8\n",
    "for i in range(len(years)):\n",
    "    years[i] = curr_year - 2 + i\n",
    "# print(years)\n",
    "\n",
    "indicies = [ \"Revenue\", \"Operating Expenses\", \"EBIT (Operating Income)\", \"Net Income\"]\n",
    "assum_indicies = [\"Revenue Growth\", \"Operating Expenses % of Revenue\", \"Net Income % of EBIT\"]\n",
    "\n",
    "df = pd.DataFrame(index=indicies, columns=years)\n",
    "print(df)\n",
    "\n",
    "assum_df = pd.DataFrame(index=assum_indicies, columns=years)\n",
    "print(assum_df)"
   ]
  },
  {
   "cell_type": "markdown",
   "metadata": {},
   "source": [
    "#### Setting Up the Revenue Growth\n",
    "\n",
    "##### Assumptions We Made:\n",
    "1. **Next year revenue growth** will be the *average of previous years*.\n",
    "2. **Every year after that**, revenue growth drops by **0.5%**.\n"
   ]
  },
  {
   "cell_type": "code",
   "execution_count": 51,
   "metadata": {},
   "outputs": [
    {
     "name": "stdout",
     "output_type": "stream",
     "text": [
      "                                2022      2023      2024     2025     2026  \\\n",
      "Revenue Growth                   NaN  1.077944  1.026957  1.05245  1.04745   \n",
      "Operating Expenses % of Revenue  NaN       NaN       NaN      NaN      NaN   \n",
      "Net Income % of EBIT             NaN       NaN       NaN      NaN      NaN   \n",
      "\n",
      "                                    2027     2028     2029  \n",
      "Revenue Growth                   1.04245  1.03745  1.03245  \n",
      "Operating Expenses % of Revenue      NaN      NaN      NaN  \n",
      "Net Income % of EBIT                 NaN      NaN      NaN  \n"
     ]
    }
   ],
   "source": [
    "df.loc[\"Revenue\", curr_year - 2] = 48971\n",
    "df.loc[\"Revenue\", curr_year - 1] = 52788\n",
    "df.loc[\"Revenue\", curr_year] = 54211\n",
    "\n",
    "for i in range (curr_year-1, curr_year+1):\n",
    "    assum_df.loc[\"Revenue Growth\", i] = df.loc[\"Revenue\", i] / df.loc[\"Revenue\", i-1]\n",
    "\n",
    "average_prev_revenue_growth = assum_df.loc[\"Revenue Growth\", curr_year-1:curr_year].mean()\n",
    "for i in range (5):\n",
    "    assum_df.loc[\"Revenue Growth\", i+curr_year+1] = average_prev_revenue_growth - i/200\n",
    "\n",
    "print(assum_df)"
   ]
  },
  {
   "cell_type": "markdown",
   "metadata": {},
   "source": [
    "#### Calculating Future Revenue"
   ]
  },
  {
   "cell_type": "code",
   "execution_count": 52,
   "metadata": {},
   "outputs": [
    {
     "name": "stdout",
     "output_type": "stream",
     "text": [
      "                          2022   2023   2024   2025   2026   2027   2028  \\\n",
      "Revenue                  48971  52788  54211  57054  59761  62298  64631   \n",
      "Operating Expenses         NaN    NaN    NaN    NaN    NaN    NaN    NaN   \n",
      "EBIT (Operating Income)    NaN    NaN    NaN    NaN    NaN    NaN    NaN   \n",
      "Net Income                 NaN    NaN    NaN    NaN    NaN    NaN    NaN   \n",
      "\n",
      "                          2029  \n",
      "Revenue                  66728  \n",
      "Operating Expenses         NaN  \n",
      "EBIT (Operating Income)    NaN  \n",
      "Net Income                 NaN  \n"
     ]
    }
   ],
   "source": [
    "for i in range(5):\n",
    "    df.loc[\"Revenue\", i + curr_year + 1] = int(round(df.loc[\"Revenue\", i + curr_year] * assum_df.loc[\"Revenue Growth\", i + curr_year + 1], 0))\n",
    "    \n",
    "print(df)"
   ]
  },
  {
   "cell_type": "markdown",
   "metadata": {},
   "source": [
    "#### Setting Up COGS (Cost of Goods Sold)\n",
    "\n",
    "##### Assumptions we made:\n",
    "1. **COGS of future years** = *average of previous years*"
   ]
  },
  {
   "cell_type": "code",
   "execution_count": 53,
   "metadata": {},
   "outputs": [],
   "source": [
    "# df.loc[\"COGS\", 2024] = 11418+16021+5042+3794+3303+1242+1812\n",
    "# df.loc[\"COGS\", 2023] = 12257+14580+4643+3265+2928+1369+1799\n",
    "# df.loc[\"COGS\", 2022] = 13791+12972+4385+2684+2730+1395+1815\n",
    "\n",
    "# for i in range (curr_year-2, curr_year+1):\n",
    "#     assum_df.loc[\"Cogs % of Revenue\", i] = df.loc[\"COGS\", i] / df.loc[\"Revenue\", i]\n",
    "    \n",
    "# average_prev_cog_to_revenue = assum_df.loc[\"Cogs % of Revenue\", curr_year-2:curr_year].mean()\n",
    "# for i in range(5):\n",
    "#     assum_df.loc[\"Cogs % of Revenue\", i + curr_year + 1] = average_prev_cog_to_revenue\n",
    "\n",
    "# print(assum_df)"
   ]
  },
  {
   "cell_type": "markdown",
   "metadata": {},
   "source": [
    "#### Calculating Future COGS"
   ]
  },
  {
   "cell_type": "code",
   "execution_count": 54,
   "metadata": {},
   "outputs": [],
   "source": [
    "# for i in range(5):\n",
    "#     df.loc[\"COGS\", i + curr_year + 1] = int(round(df.loc[\"Revenue\", i + curr_year] * assum_df.loc[\"Cogs % of Revenue\", i + curr_year + 1], 0))\n",
    "    \n",
    "# print(df)"
   ]
  },
  {
   "cell_type": "markdown",
   "metadata": {},
   "source": [
    "#### Calculating Gross Profit"
   ]
  },
  {
   "cell_type": "code",
   "execution_count": 55,
   "metadata": {},
   "outputs": [],
   "source": [
    "# for i in range(len(years)):\n",
    "#     df.iloc[2, i] = df.iloc[0, i] - df.iloc[1,i]\n",
    "    \n",
    "# print(df)"
   ]
  },
  {
   "cell_type": "markdown",
   "metadata": {},
   "source": [
    "#### Setting Up Operating Expenses\n",
    "\n",
    "##### Assumptions we made:\n",
    "1. **Operating Expenses of future years** = *average of previous years*"
   ]
  },
  {
   "cell_type": "code",
   "execution_count": 56,
   "metadata": {},
   "outputs": [
    {
     "name": "stdout",
     "output_type": "stream",
     "text": [
      "                                     2022      2023      2024     2025  \\\n",
      "Revenue Growth                        NaN  1.077944  1.026957  1.05245   \n",
      "Operating Expenses % of Revenue  0.967185  0.942525  0.951781  0.95383   \n",
      "Net Income % of EBIT                  NaN       NaN       NaN      NaN   \n",
      "\n",
      "                                    2026     2027     2028     2029  \n",
      "Revenue Growth                   1.04745  1.04245  1.03745  1.03245  \n",
      "Operating Expenses % of Revenue  0.95383  0.95383  0.95383  0.95383  \n",
      "Net Income % of EBIT                 NaN      NaN      NaN      NaN  \n"
     ]
    }
   ],
   "source": [
    "df.loc[\"Operating Expenses\", 2024] = 51597\n",
    "df.loc[\"Operating Expenses\", 2023] = 49754\n",
    "df.loc[\"Operating Expenses\", 2022] = 47364\n",
    "\n",
    "\n",
    "for i in range (curr_year-2, curr_year+1):\n",
    "    assum_df.loc[\"Operating Expenses % of Revenue\", i] = df.loc[\"Operating Expenses\", i] / df.loc[\"Revenue\", i]\n",
    "    \n",
    "average_OpEx_to_revenue = assum_df.loc[\"Operating Expenses % of Revenue\", curr_year-2:curr_year].mean()\n",
    "for i in range(5):\n",
    "    assum_df.loc[\"Operating Expenses % of Revenue\", i + curr_year + 1] = average_OpEx_to_revenue\n",
    "\n",
    "print(assum_df)"
   ]
  },
  {
   "cell_type": "markdown",
   "metadata": {},
   "source": [
    "#### Calculating Future OpEx"
   ]
  },
  {
   "cell_type": "code",
   "execution_count": 57,
   "metadata": {},
   "outputs": [
    {
     "name": "stdout",
     "output_type": "stream",
     "text": [
      "                          2022   2023   2024   2025   2026   2027   2028  \\\n",
      "Revenue                  48971  52788  54211  57054  59761  62298  64631   \n",
      "Operating Expenses       47364  49754  51597  54420  57002  59422  61647   \n",
      "EBIT (Operating Income)    NaN    NaN    NaN    NaN    NaN    NaN    NaN   \n",
      "Net Income                 NaN    NaN    NaN    NaN    NaN    NaN    NaN   \n",
      "\n",
      "                          2029  \n",
      "Revenue                  66728  \n",
      "Operating Expenses       63647  \n",
      "EBIT (Operating Income)    NaN  \n",
      "Net Income                 NaN  \n"
     ]
    }
   ],
   "source": [
    "for i in range(5):\n",
    "    df.loc[\"Operating Expenses\", i + curr_year + 1] = int(round(df.loc[\"Revenue\", i + curr_year + 1] * assum_df.loc[\"Operating Expenses % of Revenue\", i + curr_year + 1], 0))\n",
    "    \n",
    "print(df)"
   ]
  },
  {
   "cell_type": "markdown",
   "metadata": {},
   "source": [
    "#### Calculating EBIT (Operating Income (before taxes))"
   ]
  },
  {
   "cell_type": "code",
   "execution_count": 58,
   "metadata": {},
   "outputs": [
    {
     "name": "stdout",
     "output_type": "stream",
     "text": [
      "                          2022   2023   2024   2025   2026   2027   2028  \\\n",
      "Revenue                  48971  52788  54211  57054  59761  62298  64631   \n",
      "Operating Expenses       47364  49754  51597  54420  57002  59422  61647   \n",
      "EBIT (Operating Income)   1607   3034   2614   2634   2759   2876   2984   \n",
      "Net Income                 NaN    NaN    NaN    NaN    NaN    NaN    NaN   \n",
      "\n",
      "                          2029  \n",
      "Revenue                  66728  \n",
      "Operating Expenses       63647  \n",
      "EBIT (Operating Income)   3081  \n",
      "Net Income                 NaN  \n"
     ]
    }
   ],
   "source": [
    "for i in range(len(years)):\n",
    "    df.iloc[2, i] = df.iloc[0, i] - df.iloc[1,i]\n",
    "    \n",
    "print(df)"
   ]
  },
  {
   "cell_type": "markdown",
   "metadata": {},
   "source": [
    "#### Setting Up Net Income\n",
    "\n",
    "##### Possible outlier: Net Income for 2022 was relatively low"
   ]
  },
  {
   "cell_type": "code",
   "execution_count": 59,
   "metadata": {},
   "outputs": [
    {
     "name": "stdout",
     "output_type": "stream",
     "text": [
      "                                     2022      2023      2024      2025  \\\n",
      "Revenue Growth                        NaN  1.077944  1.026957   1.05245   \n",
      "Operating Expenses % of Revenue  0.967185  0.942525  0.951781   0.95383   \n",
      "Net Income % of EBIT             0.079029  0.270929  0.323642  0.224534   \n",
      "\n",
      "                                     2026      2027      2028      2029  \n",
      "Revenue Growth                    1.04745   1.04245   1.03745   1.03245  \n",
      "Operating Expenses % of Revenue   0.95383   0.95383   0.95383   0.95383  \n",
      "Net Income % of EBIT             0.224534  0.224534  0.224534  0.224534  \n",
      "                          2022   2023   2024   2025   2026   2027   2028  \\\n",
      "Revenue                  48971  52788  54211  57054  59761  62298  64631   \n",
      "Operating Expenses       47364  49754  51597  54420  57002  59422  61647   \n",
      "EBIT (Operating Income)   1607   3034   2614   2634   2759   2876   2984   \n",
      "Net Income                 127    822    846    591    619    646    670   \n",
      "\n",
      "                          2029  \n",
      "Revenue                  66728  \n",
      "Operating Expenses       63647  \n",
      "EBIT (Operating Income)   3081  \n",
      "Net Income                 692  \n"
     ]
    }
   ],
   "source": [
    "df.loc[\"Net Income\", 2024] = 846\n",
    "df.loc[\"Net Income\", 2023] = 822\n",
    "df.loc[\"Net Income\", 2022] = 127\n",
    "\n",
    "\n",
    "for i in range (curr_year-2, curr_year+1):\n",
    "    assum_df.loc[\"Net Income % of EBIT\", i] = df.loc[\"Net Income\", i] / df.loc[\"EBIT (Operating Income)\", i]\n",
    "    \n",
    "average_net_income_to_EBIT = assum_df.loc[\"Net Income % of EBIT\", curr_year-2:curr_year].mean()\n",
    "for i in range(5):\n",
    "    assum_df.loc[\"Net Income % of EBIT\", i + curr_year + 1] = average_net_income_to_EBIT\n",
    "\n",
    "print(assum_df)\n",
    "\n",
    "for i in range(5):\n",
    "    df.loc[\"Net Income\", i + curr_year + 1] = int(round(df.loc[\"EBIT (Operating Income)\", i + curr_year + 1] * assum_df.loc[\"Net Income % of EBIT\", i + curr_year + 1], 0))\n",
    "    \n",
    "print(df)"
   ]
  },
  {
   "cell_type": "markdown",
   "metadata": {},
   "source": [
    "#### Fixed Asset Table"
   ]
  },
  {
   "cell_type": "code",
   "execution_count": 60,
   "metadata": {},
   "outputs": [
    {
     "name": "stdout",
     "output_type": "stream",
     "text": [
      "                          2022      2023      2024          2025  \\\n",
      "Beginning PP&E             NaN     30764     31127         31884   \n",
      "D&A                        NaN      1936      1926   1989.661084   \n",
      "CapEx                      NaN      2596      2683   2719.380141   \n",
      "Ending PP&E                NaN     31424     31884  32613.719057   \n",
      "                           NaN       NaN       NaN           NaN   \n",
      "D&A % of Beginning PP&E    NaN  0.062931  0.061876      0.062403   \n",
      "CapEx % of Beginning PP&E  NaN  0.084384  0.086195       0.08529   \n",
      "\n",
      "                                   2026          2027          2028  \\\n",
      "Beginning PP&E             32613.719057  33360.138965  34123.641949   \n",
      "D&A                          2035.19783   2081.776761   2129.421729   \n",
      "CapEx                       2781.617737   2845.279745   2910.398766   \n",
      "Ending PP&E                33360.138965  34123.641949  34904.618986   \n",
      "                                    NaN           NaN           NaN   \n",
      "D&A % of Beginning PP&E        0.062403      0.062403      0.062403   \n",
      "CapEx % of Beginning PP&E       0.08529       0.08529       0.08529   \n",
      "\n",
      "                                   2029  \n",
      "Beginning PP&E             34904.618986  \n",
      "D&A                         2178.157133  \n",
      "CapEx                       2977.008145  \n",
      "Ending PP&E                35703.469998  \n",
      "                                    NaN  \n",
      "D&A % of Beginning PP&E        0.062403  \n",
      "CapEx % of Beginning PP&E       0.08529  \n"
     ]
    }
   ],
   "source": [
    "fixed_assets_indicies = [\"Beginning PP&E\", \"D&A\", \"CapEx\", \"Ending PP&E\", \"\", \"D&A % of Beginning PP&E\", \"CapEx % of Beginning PP&E\"]\n",
    "\n",
    "fixed_assets_df = pd.DataFrame(index=fixed_assets_indicies, columns=years)\n",
    "fixed_assets_df.iloc[0, 1] = 30764\n",
    "fixed_assets_df.iloc[0, 2] = 31127\n",
    "\n",
    "fixed_assets_df.iloc[1, 1] = 1936\n",
    "fixed_assets_df.iloc[1, 2] = 1926\n",
    "\n",
    "fixed_assets_df.iloc[2, 1] = 2596\n",
    "fixed_assets_df.iloc[2, 2] = 2683\n",
    "\n",
    "fixed_assets_df.iloc[3, 1] = fixed_assets_df.iloc[0, 1] - fixed_assets_df.iloc[1, 1] + fixed_assets_df.iloc[2, 1]\n",
    "fixed_assets_df.iloc[3, 2] = fixed_assets_df.iloc[0, 2] - fixed_assets_df.iloc[1, 2] + fixed_assets_df.iloc[2, 2]\n",
    "\n",
    "for i in range (curr_year-1, curr_year+1):\n",
    "    fixed_assets_df.loc[\"D&A % of Beginning PP&E\", i] = fixed_assets_df.loc[\"D&A\", i] / fixed_assets_df.loc[\"Beginning PP&E\", i]\n",
    "    fixed_assets_df.loc[\"CapEx % of Beginning PP&E\", i] = fixed_assets_df.loc[\"CapEx\", i] / fixed_assets_df.loc[\"Beginning PP&E\", i]    \n",
    "\n",
    "ave_d_and_a = fixed_assets_df.loc[\"D&A % of Beginning PP&E\", curr_year-1:curr_year].mean()\n",
    "ave_cap_ex = fixed_assets_df.loc[\"CapEx % of Beginning PP&E\", curr_year-1:curr_year].mean()\n",
    "for i in range(5):\n",
    "    fixed_assets_df.loc[\"D&A % of Beginning PP&E\", i+curr_year+1] = ave_d_and_a\n",
    "    fixed_assets_df.loc[\"CapEx % of Beginning PP&E\", i+curr_year+1] = ave_cap_ex\n",
    "  \n",
    "for i in range(5):\n",
    "    fixed_assets_df.loc[\"Beginning PP&E\", i+curr_year+1] = fixed_assets_df.loc[\"Ending PP&E\", i+curr_year]\n",
    "    fixed_assets_df.loc[\"D&A\", i+curr_year+1] = fixed_assets_df.loc[\"Beginning PP&E\", i+curr_year+1] * fixed_assets_df.loc[\"D&A % of Beginning PP&E\", i+curr_year+1]\n",
    "    fixed_assets_df.loc[\"CapEx\", i+curr_year+1] = fixed_assets_df.loc[\"Beginning PP&E\", i+curr_year+1] * fixed_assets_df.loc[\"CapEx % of Beginning PP&E\", i+curr_year+1]\n",
    "    fixed_assets_df.iloc[3, i+3] = fixed_assets_df.iloc[0, i+3] - fixed_assets_df.iloc[1, i+3] + fixed_assets_df.iloc[2, i+3]\n",
    "\n",
    "print(fixed_assets_df)"
   ]
  },
  {
   "cell_type": "markdown",
   "metadata": {},
   "source": [
    "#### Path to Free Cash Flow"
   ]
  },
  {
   "cell_type": "code",
   "execution_count": 63,
   "metadata": {},
   "outputs": [
    {
     "name": "stdout",
     "output_type": "stream",
     "text": [
      "                                  2022   2023   2024         2025  \\\n",
      "Revenue                          48971  52788  54211        57054   \n",
      "Operating Expenses               47364  49754  51597        54420   \n",
      "EBIT (Operating Income)           1607   3034   2614         2634   \n",
      "Net Income                         127    822    846          591   \n",
      "                                                                    \n",
      "(+) Depreciation & Amortization    NaN   1936   1926  1989.661084   \n",
      "(-) Capital Expenditures           NaN   2596   2683  2719.380141   \n",
      "\n",
      "                                        2026         2027         2028  \\\n",
      "Revenue                                59761        62298        64631   \n",
      "Operating Expenses                     57002        59422        61647   \n",
      "EBIT (Operating Income)                 2759         2876         2984   \n",
      "Net Income                               619          646          670   \n",
      "                                                                         \n",
      "(+) Depreciation & Amortization   2035.19783  2081.776761  2129.421729   \n",
      "(-) Capital Expenditures         2781.617737  2845.279745  2910.398766   \n",
      "\n",
      "                                        2029  \n",
      "Revenue                                66728  \n",
      "Operating Expenses                     63647  \n",
      "EBIT (Operating Income)                 3081  \n",
      "Net Income                               692  \n",
      "                                              \n",
      "(+) Depreciation & Amortization  2178.157133  \n",
      "(-) Capital Expenditures         2977.008145  \n"
     ]
    }
   ],
   "source": [
    "df.loc[\"\"] = [\"\"] * len(years)\n",
    "df.loc[\"(+) Depreciation & Amortization\"] = fixed_assets_df.loc[\"D&A\"]\n",
    "df.loc[\"(-) Capital Expenditures\"] = fixed_assets_df.loc[\"CapEx\"]\n",
    "\n",
    "print(df)"
   ]
  }
 ],
 "metadata": {
  "kernelspec": {
   "display_name": "Python 3",
   "language": "python",
   "name": "python3"
  },
  "language_info": {
   "codemirror_mode": {
    "name": "ipython",
    "version": 3
   },
   "file_extension": ".py",
   "mimetype": "text/x-python",
   "name": "python",
   "nbconvert_exporter": "python",
   "pygments_lexer": "ipython3",
   "version": "3.12.4"
  }
 },
 "nbformat": 4,
 "nbformat_minor": 2
}
