{
 "cells": [
  {
   "cell_type": "markdown",
   "metadata": {},
   "source": [
    "### DCF Model for American Airlines 2025"
   ]
  },
  {
   "cell_type": "code",
   "execution_count": 14,
   "metadata": {},
   "outputs": [],
   "source": [
    "import pandas as pd\n",
    "import datetime"
   ]
  },
  {
   "cell_type": "markdown",
   "metadata": {},
   "source": [
    "#### Setting up the DataFrame"
   ]
  },
  {
   "cell_type": "code",
   "execution_count": 15,
   "metadata": {},
   "outputs": [
    {
     "name": "stdout",
     "output_type": "stream",
     "text": [
      "                        2022 2023 2024 2025 2026 2027 2028 2029\n",
      "Revenue                  NaN  NaN  NaN  NaN  NaN  NaN  NaN  NaN\n",
      "Operating Expenses       NaN  NaN  NaN  NaN  NaN  NaN  NaN  NaN\n",
      "EBIT (Operating Income)  NaN  NaN  NaN  NaN  NaN  NaN  NaN  NaN\n",
      "Net Income               NaN  NaN  NaN  NaN  NaN  NaN  NaN  NaN\n",
      "                                2022 2023 2024 2025 2026 2027 2028 2029\n",
      "Revenue Growth                   NaN  NaN  NaN  NaN  NaN  NaN  NaN  NaN\n",
      "Operating Expenses % of Revenue  NaN  NaN  NaN  NaN  NaN  NaN  NaN  NaN\n",
      "Net Income % of EBIT             NaN  NaN  NaN  NaN  NaN  NaN  NaN  NaN\n"
     ]
    }
   ],
   "source": [
    "# curr_year = datetime.datetime.today().year\n",
    "curr_year = 2024\n",
    "# print(curr_year)\n",
    "\n",
    "years = [0] * 8\n",
    "for i in range(len(years)):\n",
    "    years[i] = curr_year - 2 + i\n",
    "# print(years)\n",
    "\n",
    "indicies = [ \"Revenue\", \"Operating Expenses\", \"EBIT (Operating Income)\", \"Net Income\"]\n",
    "assum_indicies = [\"Revenue Growth\", \"Operating Expenses % of Revenue\", \"Net Income % of EBIT\"]\n",
    "\n",
    "df = pd.DataFrame(index=indicies, columns=years)\n",
    "print(df)\n",
    "\n",
    "assum_df = pd.DataFrame(index=assum_indicies, columns=years)\n",
    "print(assum_df)"
   ]
  },
  {
   "cell_type": "markdown",
   "metadata": {},
   "source": [
    "#### Setting Up the Revenue Growth\n",
    "\n",
    "##### Assumptions We Made:\n",
    "1. **Next year revenue growth** will be the *average of previous years*.\n",
    "2. **Every year after that**, revenue growth drops by **0.5%**.\n"
   ]
  },
  {
   "cell_type": "code",
   "execution_count": 16,
   "metadata": {},
   "outputs": [
    {
     "name": "stdout",
     "output_type": "stream",
     "text": [
      "                                2022      2023      2024     2025     2026  \\\n",
      "Revenue Growth                   NaN  1.077944  1.026957  1.05245  1.04745   \n",
      "Operating Expenses % of Revenue  NaN       NaN       NaN      NaN      NaN   \n",
      "Net Income % of EBIT             NaN       NaN       NaN      NaN      NaN   \n",
      "\n",
      "                                    2027     2028     2029  \n",
      "Revenue Growth                   1.04245  1.03745  1.03245  \n",
      "Operating Expenses % of Revenue      NaN      NaN      NaN  \n",
      "Net Income % of EBIT                 NaN      NaN      NaN  \n"
     ]
    }
   ],
   "source": [
    "df.loc[\"Revenue\", curr_year - 2] = 48971\n",
    "df.loc[\"Revenue\", curr_year - 1] = 52788\n",
    "df.loc[\"Revenue\", curr_year] = 54211\n",
    "\n",
    "for i in range (curr_year-1, curr_year+1):\n",
    "    assum_df.loc[\"Revenue Growth\", i] = df.loc[\"Revenue\", i] / df.loc[\"Revenue\", i-1]\n",
    "\n",
    "average_prev_revenue_growth = assum_df.loc[\"Revenue Growth\", curr_year-1:curr_year].mean()\n",
    "for i in range (5):\n",
    "    assum_df.loc[\"Revenue Growth\", i+curr_year+1] = average_prev_revenue_growth - i/200\n",
    "\n",
    "print(assum_df)"
   ]
  },
  {
   "cell_type": "markdown",
   "metadata": {},
   "source": [
    "#### Calculating Future Revenue"
   ]
  },
  {
   "cell_type": "code",
   "execution_count": 17,
   "metadata": {},
   "outputs": [
    {
     "name": "stdout",
     "output_type": "stream",
     "text": [
      "                          2022   2023   2024   2025   2026   2027   2028  \\\n",
      "Revenue                  48971  52788  54211  57054  59761  62298  64631   \n",
      "Operating Expenses         NaN    NaN    NaN    NaN    NaN    NaN    NaN   \n",
      "EBIT (Operating Income)    NaN    NaN    NaN    NaN    NaN    NaN    NaN   \n",
      "Net Income                 NaN    NaN    NaN    NaN    NaN    NaN    NaN   \n",
      "\n",
      "                          2029  \n",
      "Revenue                  66728  \n",
      "Operating Expenses         NaN  \n",
      "EBIT (Operating Income)    NaN  \n",
      "Net Income                 NaN  \n"
     ]
    }
   ],
   "source": [
    "for i in range(5):\n",
    "    df.loc[\"Revenue\", i + curr_year + 1] = int(round(df.loc[\"Revenue\", i + curr_year] * assum_df.loc[\"Revenue Growth\", i + curr_year + 1], 0))\n",
    "    \n",
    "print(df)"
   ]
  },
  {
   "cell_type": "markdown",
   "metadata": {},
   "source": [
    "#### Setting Up COGS (Cost of Goods Sold)\n",
    "\n",
    "##### Assumptions we made:\n",
    "1. **COGS of future years** = *average of previous years*"
   ]
  },
  {
   "cell_type": "code",
   "execution_count": 18,
   "metadata": {},
   "outputs": [],
   "source": [
    "# df.loc[\"COGS\", 2024] = 11418+16021+5042+3794+3303+1242+1812\n",
    "# df.loc[\"COGS\", 2023] = 12257+14580+4643+3265+2928+1369+1799\n",
    "# df.loc[\"COGS\", 2022] = 13791+12972+4385+2684+2730+1395+1815\n",
    "\n",
    "# for i in range (curr_year-2, curr_year+1):\n",
    "#     assum_df.loc[\"Cogs % of Revenue\", i] = df.loc[\"COGS\", i] / df.loc[\"Revenue\", i]\n",
    "    \n",
    "# average_prev_cog_to_revenue = assum_df.loc[\"Cogs % of Revenue\", curr_year-2:curr_year].mean()\n",
    "# for i in range(5):\n",
    "#     assum_df.loc[\"Cogs % of Revenue\", i + curr_year + 1] = average_prev_cog_to_revenue\n",
    "\n",
    "# print(assum_df)"
   ]
  },
  {
   "cell_type": "markdown",
   "metadata": {},
   "source": [
    "#### Calculating Future COGS"
   ]
  },
  {
   "cell_type": "code",
   "execution_count": 19,
   "metadata": {},
   "outputs": [],
   "source": [
    "# for i in range(5):\n",
    "#     df.loc[\"COGS\", i + curr_year + 1] = int(round(df.loc[\"Revenue\", i + curr_year] * assum_df.loc[\"Cogs % of Revenue\", i + curr_year + 1], 0))\n",
    "    \n",
    "# print(df)"
   ]
  },
  {
   "cell_type": "markdown",
   "metadata": {},
   "source": [
    "#### Calculating Gross Profit"
   ]
  },
  {
   "cell_type": "code",
   "execution_count": 20,
   "metadata": {},
   "outputs": [],
   "source": [
    "# for i in range(len(years)):\n",
    "#     df.iloc[2, i] = df.iloc[0, i] - df.iloc[1,i]\n",
    "    \n",
    "# print(df)"
   ]
  },
  {
   "cell_type": "markdown",
   "metadata": {},
   "source": [
    "#### Setting Up Operating Expenses\n",
    "\n",
    "##### Assumptions we made:\n",
    "1. **Operating Expenses of future years** = *average of previous years*"
   ]
  },
  {
   "cell_type": "code",
   "execution_count": 21,
   "metadata": {},
   "outputs": [
    {
     "name": "stdout",
     "output_type": "stream",
     "text": [
      "                                     2022      2023      2024     2025  \\\n",
      "Revenue Growth                        NaN  1.077944  1.026957  1.05245   \n",
      "Operating Expenses % of Revenue  0.967185  0.942525  0.951781  0.95383   \n",
      "Net Income % of EBIT                  NaN       NaN       NaN      NaN   \n",
      "\n",
      "                                    2026     2027     2028     2029  \n",
      "Revenue Growth                   1.04745  1.04245  1.03745  1.03245  \n",
      "Operating Expenses % of Revenue  0.95383  0.95383  0.95383  0.95383  \n",
      "Net Income % of EBIT                 NaN      NaN      NaN      NaN  \n"
     ]
    }
   ],
   "source": [
    "df.loc[\"Operating Expenses\", 2024] = 51597\n",
    "df.loc[\"Operating Expenses\", 2023] = 49754\n",
    "df.loc[\"Operating Expenses\", 2022] = 47364\n",
    "\n",
    "\n",
    "for i in range (curr_year-2, curr_year+1):\n",
    "    assum_df.loc[\"Operating Expenses % of Revenue\", i] = df.loc[\"Operating Expenses\", i] / df.loc[\"Revenue\", i]\n",
    "    \n",
    "average_OpEx_to_revenue = assum_df.loc[\"Operating Expenses % of Revenue\", curr_year-2:curr_year].mean()\n",
    "for i in range(5):\n",
    "    assum_df.loc[\"Operating Expenses % of Revenue\", i + curr_year + 1] = average_OpEx_to_revenue\n",
    "\n",
    "print(assum_df)"
   ]
  },
  {
   "cell_type": "markdown",
   "metadata": {},
   "source": [
    "#### Calculating Future OpEx"
   ]
  },
  {
   "cell_type": "code",
   "execution_count": 22,
   "metadata": {},
   "outputs": [
    {
     "name": "stdout",
     "output_type": "stream",
     "text": [
      "                          2022   2023   2024   2025   2026   2027   2028  \\\n",
      "Revenue                  48971  52788  54211  57054  59761  62298  64631   \n",
      "Operating Expenses       47364  49754  51597  54420  57002  59422  61647   \n",
      "EBIT (Operating Income)    NaN    NaN    NaN    NaN    NaN    NaN    NaN   \n",
      "Net Income                 NaN    NaN    NaN    NaN    NaN    NaN    NaN   \n",
      "\n",
      "                          2029  \n",
      "Revenue                  66728  \n",
      "Operating Expenses       63647  \n",
      "EBIT (Operating Income)    NaN  \n",
      "Net Income                 NaN  \n"
     ]
    }
   ],
   "source": [
    "for i in range(5):\n",
    "    df.loc[\"Operating Expenses\", i + curr_year + 1] = int(round(df.loc[\"Revenue\", i + curr_year + 1] * assum_df.loc[\"Operating Expenses % of Revenue\", i + curr_year + 1], 0))\n",
    "    \n",
    "print(df)"
   ]
  },
  {
   "cell_type": "markdown",
   "metadata": {},
   "source": [
    "#### Calculating EBIT (Operating Income (before taxes))"
   ]
  },
  {
   "cell_type": "code",
   "execution_count": 23,
   "metadata": {},
   "outputs": [
    {
     "name": "stdout",
     "output_type": "stream",
     "text": [
      "                          2022   2023   2024   2025   2026   2027   2028  \\\n",
      "Revenue                  48971  52788  54211  57054  59761  62298  64631   \n",
      "Operating Expenses       47364  49754  51597  54420  57002  59422  61647   \n",
      "EBIT (Operating Income)   1607   3034   2614   2634   2759   2876   2984   \n",
      "Net Income                 NaN    NaN    NaN    NaN    NaN    NaN    NaN   \n",
      "\n",
      "                          2029  \n",
      "Revenue                  66728  \n",
      "Operating Expenses       63647  \n",
      "EBIT (Operating Income)   3081  \n",
      "Net Income                 NaN  \n"
     ]
    }
   ],
   "source": [
    "for i in range(len(years)):\n",
    "    df.iloc[2, i] = df.iloc[0, i] - df.iloc[1,i]\n",
    "    \n",
    "print(df)"
   ]
  },
  {
   "cell_type": "markdown",
   "metadata": {},
   "source": [
    "#### Setting Up Net Income\n",
    "\n",
    "##### Possible outlier: Net Income for 2022 was relatively low"
   ]
  },
  {
   "cell_type": "code",
   "execution_count": 25,
   "metadata": {},
   "outputs": [
    {
     "name": "stdout",
     "output_type": "stream",
     "text": [
      "                                     2022      2023      2024      2025  \\\n",
      "Revenue Growth                        NaN  1.077944  1.026957   1.05245   \n",
      "Operating Expenses % of Revenue  0.967185  0.942525  0.951781   0.95383   \n",
      "Net Income % of EBIT             0.079029  0.270929  0.323642  0.224534   \n",
      "\n",
      "                                     2026      2027      2028      2029  \n",
      "Revenue Growth                    1.04745   1.04245   1.03745   1.03245  \n",
      "Operating Expenses % of Revenue   0.95383   0.95383   0.95383   0.95383  \n",
      "Net Income % of EBIT             0.224534  0.224534  0.224534  0.224534  \n",
      "                          2022   2023   2024   2025   2026   2027   2028  \\\n",
      "Revenue                  48971  52788  54211  57054  59761  62298  64631   \n",
      "Operating Expenses       47364  49754  51597  54420  57002  59422  61647   \n",
      "EBIT (Operating Income)   1607   3034   2614   2634   2759   2876   2984   \n",
      "Net Income                 127    822    846    591    619    646    670   \n",
      "\n",
      "                          2029  \n",
      "Revenue                  66728  \n",
      "Operating Expenses       63647  \n",
      "EBIT (Operating Income)   3081  \n",
      "Net Income                 692  \n"
     ]
    }
   ],
   "source": [
    "df.loc[\"Net Income\", 2024] = 846\n",
    "df.loc[\"Net Income\", 2023] = 822\n",
    "df.loc[\"Net Income\", 2022] = 127\n",
    "\n",
    "\n",
    "for i in range (curr_year-2, curr_year+1):\n",
    "    assum_df.loc[\"Net Income % of EBIT\", i] = df.loc[\"Net Income\", i] / df.loc[\"EBIT (Operating Income)\", i]\n",
    "    \n",
    "average_net_income_to_EBIT = assum_df.loc[\"Net Income % of EBIT\", curr_year-2:curr_year].mean()\n",
    "for i in range(5):\n",
    "    assum_df.loc[\"Net Income % of EBIT\", i + curr_year + 1] = average_net_income_to_EBIT\n",
    "\n",
    "print(assum_df)\n",
    "\n",
    "for i in range(5):\n",
    "    df.loc[\"Net Income\", i + curr_year + 1] = int(round(df.loc[\"EBIT (Operating Income)\", i + curr_year + 1] * assum_df.loc[\"Net Income % of EBIT\", i + curr_year + 1], 0))\n",
    "    \n",
    "print(df)"
   ]
  }
 ],
 "metadata": {
  "kernelspec": {
   "display_name": "Python 3",
   "language": "python",
   "name": "python3"
  },
  "language_info": {
   "codemirror_mode": {
    "name": "ipython",
    "version": 3
   },
   "file_extension": ".py",
   "mimetype": "text/x-python",
   "name": "python",
   "nbconvert_exporter": "python",
   "pygments_lexer": "ipython3",
   "version": "3.12.4"
  }
 },
 "nbformat": 4,
 "nbformat_minor": 2
}
